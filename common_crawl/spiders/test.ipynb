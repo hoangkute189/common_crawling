{
 "cells": [
  {
   "cell_type": "code",
   "execution_count": 16,
   "metadata": {},
   "outputs": [],
   "source": [
    "import sqlite3\n",
    "import pandas as pd\n",
    "\n",
    "def create_connection(db_file):\n",
    "    \"\"\" create a database connection to the SQLite database\n",
    "        specified by the db_file\n",
    "    :param db_file: database file\n",
    "    :return: Connection object or None\n",
    "    \"\"\"\n",
    "    conn = None\n",
    "    try:\n",
    "        conn = sqlite3.connect(db_file)\n",
    "    except Error as e:\n",
    "        print(e)\n",
    "\n",
    "    return conn\n",
    "\n",
    "def select_id(conn):\n",
    "    \"\"\"\n",
    "    Query all rows in the tasks table\n",
    "    :param conn: the Connection object\n",
    "    :return:\n",
    "    \"\"\"\n",
    "    cur = conn.cursor()\n",
    "    rows = cur.execute(\"SELECT id FROM common_crawl\").fetchall()\n",
    "    title = cur.execute(\"SELECT title FROM common_crawl\").fetchall()\n",
    "    url = cur.execute(\"SELECT url FROM common_crawl\").fetchall()\n",
    "    content = cur.execute(\"SELECT content FROM common_crawl\").fetchall()\n",
    "\n",
    "\n",
    "    ids = list(i[0] for i in rows)\n",
    "    titles = list(i[0] for i in title)\n",
    "    urls = list(i[0] for i in url)\n",
    "    contents = list(i[0] for i in content)\n",
    "\n",
    "\n",
    "    df = pd.DataFrame(\n",
    "        {\n",
    "            \"id\": ids,\n",
    "            \"titles\": titles,\n",
    "            \"url\": urls,\n",
    "            \"content\": contents\n",
    "        }\n",
    "    )\n",
    "\n",
    "    return df"
   ]
  },
  {
   "cell_type": "code",
   "execution_count": 18,
   "metadata": {},
   "outputs": [],
   "source": [
    "database = \"/Users/duongtrongchi/project/web-crawling/common_crawl/common_crawl.db\"\n",
    "conn = create_connection(database)\n",
    "tmp = select_id(conn)"
   ]
  },
  {
   "cell_type": "code",
   "execution_count": 22,
   "metadata": {},
   "outputs": [
    {
     "name": "stdout",
     "output_type": "stream",
     "text": [
      "1\n"
     ]
    }
   ],
   "source": [
    "class ConnectDatabase:\n",
    "    def __init__(self):\n",
    "        self.ids_seen = set()\n",
    "        self.con = sqlite3.connect('/Users/duongtrongchi/project/web-crawling/common_crawl/common_crawl.db')\n",
    "        self.cur = self.con.cursor()\n",
    "\n",
    "    def open_spider(self):\n",
    "        ids = self.cur.execute(\"\"\"SELECT id FROM common_crawl\"\"\").fetchall()\n",
    "        self.ids_seen = set(i[0] for i in ids)\n",
    "        return self.ids_seen\n",
    "    \n",
    "\n",
    "t = ConnectDatabase()\n",
    "tmp = '00e73beb86fc5c18fe14a67a03ff52fdc1f7e0adbe4e9f006173287c42d5a491'\n",
    "if tmp in t.open_spider():\n",
    "    print(1)\n",
    "\n",
    "\n"
   ]
  },
  {
   "cell_type": "code",
   "execution_count": null,
   "metadata": {},
   "outputs": [],
   "source": [
    "import hashlib\n",
    "\n",
    "\n",
    "def make_id(url):\n",
    "    return hashlib.sha256(url.encode('utf-8')).hexdigest()"
   ]
  }
 ],
 "metadata": {
  "kernelspec": {
   "display_name": "crawling",
   "language": "python",
   "name": "python3"
  },
  "language_info": {
   "codemirror_mode": {
    "name": "ipython",
    "version": 3
   },
   "file_extension": ".py",
   "mimetype": "text/x-python",
   "name": "python",
   "nbconvert_exporter": "python",
   "pygments_lexer": "ipython3",
   "version": "3.9.18"
  }
 },
 "nbformat": 4,
 "nbformat_minor": 2
}
